{
 "cells": [
  {
   "cell_type": "code",
   "execution_count": 1,
   "metadata": {},
   "outputs": [],
   "source": [
    "import numpy as np\n",
    "import pandas as pd\n",
    "import matplotlib.pyplot as plt\n",
    "%matplotlib inline\n",
    "plt.rcParams['figure.facecolor'] = 'w'"
   ]
  },
  {
   "cell_type": "code",
   "execution_count": 2,
   "metadata": {},
   "outputs": [],
   "source": [
    "import random"
   ]
  },
  {
   "cell_type": "code",
   "execution_count": null,
   "metadata": {},
   "outputs": [],
   "source": []
  },
  {
   "cell_type": "code",
   "execution_count": 341,
   "metadata": {},
   "outputs": [],
   "source": [
    "num_side = 100\n",
    "X = np.zeros((num_side, num_side))\n",
    "# X = np.random.rand(50, 50)\n",
    "X[47, 53] = 1\n",
    "# X[11, 15] = 1"
   ]
  },
  {
   "cell_type": "code",
   "execution_count": 342,
   "metadata": {},
   "outputs": [
    {
     "data": {
      "text/plain": [
       "1"
      ]
     },
     "execution_count": 342,
     "metadata": {},
     "output_type": "execute_result"
    }
   ],
   "source": [
    "len(np.nonzero(X)[0])"
   ]
  },
  {
   "cell_type": "code",
   "execution_count": 343,
   "metadata": {},
   "outputs": [
    {
     "data": {
      "image/png": "[encoded data removed]",
      "text/plain": [
       "<Figure size 360x360 with 1 Axes>"
      ]
     },
     "metadata": {},
     "output_type": "display_data"
    }
   ],
   "source": [
    "fig, ax = plt.subplots()\n",
    "fig.set_size_inches(5, 5)\n",
    "# fig.autofmt_xdate(rotation=45)\n",
    "im = ax.imshow(X, cmap='viridis', interpolation='nearest')#, vmin=-1, vmax=1)\n",
    "# fig.colorbar(im)\n",
    "# ax.set_xticks(np.arange(len(data_fields+['DeltaE'])))\n",
    "# ax.set_yticks(np.arange(len(data_fields+['DeltaE'])))\n",
    "# ax.set_xticklabels(data_fields+['DeltaE'])\n",
    "# ax.set_yticklabels(data_fields+['DeltaE'])\n",
    "# ax.set_title('Correlation Matrix');"
   ]
  },
  {
   "cell_type": "code",
   "execution_count": 344,
   "metadata": {},
   "outputs": [],
   "source": [
    "cnt = len(np.nonzero(X)[0])\n",
    "cnt_lst = [cnt]"
   ]
  },
  {
   "cell_type": "code",
   "execution_count": 361,
   "metadata": {},
   "outputs": [],
   "source": [
    "for _ in range(10):\n",
    "    for y,x in zip(np.where(X != 0)[0], np.where(X != 0)[1]):\n",
    "        for i in range(-1, 2):\n",
    "            for j in range(-1, 2):\n",
    "                if (i==0 and j==0):\n",
    "                    continue\n",
    "                else:\n",
    "                    xi, yj = x+i, y+j\n",
    "                    # avoid beyond boundaries\n",
    "                    if (xi < 0 or xi >= num_side or yj < 0 or yj >= num_side):\n",
    "                        continue\n",
    "                    else:\n",
    "                        if X[yj, xi] == 1:  # ignore if already infected\n",
    "                            continue\n",
    "                        else:\n",
    "                            contagion = contact(prob=0.1)\n",
    "                            X[yj, xi] = contagion\n",
    "                            if contagion == 1:\n",
    "                                cnt += 1\n",
    "    cnt_lst.append(cnt)\n",
    "# print(cnt, len(cnt_lst))"
   ]
  },
  {
   "cell_type": "code",
   "execution_count": 362,
   "metadata": {},
   "outputs": [
    {
     "data": {
      "image/png": "[encoded data removed]",
      "text/plain": [
       "<Figure size 720x360 with 2 Axes>"
      ]
     },
     "metadata": {},
     "output_type": "display_data"
    }
   ],
   "source": [
    "fig, ax = plt.subplots(1, 2)\n",
    "fig.set_size_inches(10, 5)\n",
    "ax[0].imshow(X, cmap='viridis', interpolation='nearest')#, vmin=-1, vmax=1)\n",
    "ax[1].plot(cnt_lst, 'o-');\n",
    "# ax[1].set_yscale('log');"
   ]
  },
  {
   "cell_type": "code",
   "execution_count": 75,
   "metadata": {},
   "outputs": [],
   "source": [
    "def contact(prob):\n",
    "    rnd_nr = random.random()\n",
    "    if rnd_nr <= prob:\n",
    "        rtn = 1\n",
    "    else:\n",
    "        rtn = 0\n",
    "    return rtn"
   ]
  },
  {
   "cell_type": "code",
   "execution_count": 251,
   "metadata": {},
   "outputs": [
    {
     "data": {
      "text/plain": [
       "[2, 5]"
      ]
     },
     "execution_count": 251,
     "metadata": {},
     "output_type": "execute_result"
    }
   ],
   "source": [
    "cnt_lst"
   ]
  },
  {
   "cell_type": "code",
   "execution_count": null,
   "metadata": {},
   "outputs": [],
   "source": []
  },
  {
   "cell_type": "code",
   "execution_count": 68,
   "metadata": {},
   "outputs": [
    {
     "data": {
      "text/plain": [
       "0.1956"
      ]
     },
     "execution_count": 68,
     "metadata": {},
     "output_type": "execute_result"
    }
   ],
   "source": [
    "int_ = []\n",
    "for _ in range(10000):\n",
    "    int_.append(interaction(0.2))\n",
    "np.mean(int_)"
   ]
  },
  {
   "cell_type": "code",
   "execution_count": null,
   "metadata": {},
   "outputs": [],
   "source": []
  },
  {
   "cell_type": "code",
   "execution_count": null,
   "metadata": {},
   "outputs": [],
   "source": []
  }
 ],
 "metadata": {
  "kernelspec": {
   "display_name": "Python 3",
   "language": "python",
   "name": "python3"
  },
  "language_info": {
   "codemirror_mode": {
    "name": "ipython",
    "version": 3
   },
   "file_extension": ".py",
   "mimetype": "text/x-python",
   "name": "python",
   "nbconvert_exporter": "python",
   "pygments_lexer": "ipython3",
   "version": "3.6.8"
  }
 },
 "nbformat": 4,
 "nbformat_minor": 2
}
