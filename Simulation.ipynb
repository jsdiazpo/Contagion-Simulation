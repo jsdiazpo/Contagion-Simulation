{
 "cells": [
  {
   "cell_type": "code",
   "execution_count": 1,
   "metadata": {},
   "outputs": [],
   "source": [
    "import numpy as np\n",
    "import pandas as pd\n",
    "import matplotlib.pyplot as plt\n",
    "%matplotlib inline\n",
    "plt.rcParams['figure.facecolor'] = 'w'"
   ]
  },
  {
   "cell_type": "code",
   "execution_count": 2,
   "metadata": {},
   "outputs": [],
   "source": [
    "import random"
   ]
  },
  {
   "cell_type": "code",
   "execution_count": null,
   "metadata": {},
   "outputs": [],
   "source": []
  },
  {
   "cell_type": "code",
   "execution_count": 365,
   "metadata": {},
   "outputs": [],
   "source": []
  },
  {
   "cell_type": "code",
   "execution_count": 486,
   "metadata": {},
   "outputs": [
    {
     "data": {
      "image/png": "[encoded data removed]",
      "text/plain": [
       "<Figure size 360x360 with 1 Axes>"
      ]
     },
     "metadata": {},
     "output_type": "display_data"
    }
   ],
   "source": [
    "num_side = 100\n",
    "X = np.zeros((num_side, num_side))\n",
    "# X = np.random.rand(50, 50)\n",
    "X[70, 70] = 1\n",
    "X[30, 30] = 1\n",
    "\n",
    "fig, ax = plt.subplots()\n",
    "fig.set_size_inches(5, 5)\n",
    "im = ax.imshow(X, cmap='viridis', interpolation='nearest')"
   ]
  },
  {
   "cell_type": "code",
   "execution_count": 487,
   "metadata": {},
   "outputs": [],
   "source": [
    "cnt = len(np.nonzero(X)[0])\n",
    "cnt_lst = [cnt]"
   ]
  },
  {
   "cell_type": "code",
   "execution_count": 488,
   "metadata": {},
   "outputs": [],
   "source": [
    "def run_simulation(X, cnt_lst, steps=10):\n",
    "    cnt = cnt_lst[-1]\n",
    "    for _ in range(10):\n",
    "        for y,x in zip(np.where(X != 0)[0], np.where(X != 0)[1]):\n",
    "            for i in range(-1, 2):\n",
    "                for j in range(-1, 2):\n",
    "                    if (i==0 and j==0):\n",
    "                        continue\n",
    "                    else:\n",
    "                        xi, yj = x+i, y+j\n",
    "                        # avoid beyond boundaries\n",
    "                        if (xi < 0 or xi >= num_side or yj < 0 or yj >= num_side):\n",
    "                            continue\n",
    "                        else:\n",
    "                            if X[yj, xi] == 1:  # ignore if already infected\n",
    "                                continue\n",
    "                            else:\n",
    "                                contagion = contact(prob=0.2)\n",
    "                                X[yj, xi] = contagion\n",
    "                                if contagion == 1:\n",
    "                                    cnt += 1\n",
    "        cnt_lst.append(cnt)\n",
    "    return X, cnt_lst"
   ]
  },
  {
   "cell_type": "code",
   "execution_count": null,
   "metadata": {},
   "outputs": [],
   "source": [
    "fig, ax = plt.subplots(5, 4)\n",
    "fig.set_size_inches(20, 30)\n",
    "for k in range(5):\n",
    "    X, cnt_lst = run_simulation(X, cnt_lst, steps=3)\n",
    "    ax[k,0].imshow(X, cmap='viridis', interpolation='nearest')\n",
    "    ax[k,1].plot(cnt_lst, 'o-')\n",
    "    X, cnt_lst = run_simulation(X, cnt_lst, steps=3)\n",
    "    ax[k,2].imshow(X, cmap='viridis', interpolation='nearest')\n",
    "    ax[k,3].plot(cnt_lst, 'o-')\n",
    "plt.tight_layout()\n",
    "fig.savefig('path_namefile.pdf', bbox_inches='tight');"
   ]
  },
  {
   "cell_type": "code",
   "execution_count": 469,
   "metadata": {},
   "outputs": [
    {
     "data": {
      "image/png": "[encoded data removed]",
      "text/plain": [
       "<Figure size 720x360 with 2 Axes>"
      ]
     },
     "metadata": {},
     "output_type": "display_data"
    }
   ],
   "source": [
    "fig, ax = plt.subplots(1, 2)\n",
    "fig.set_size_inches(10, 5)\n",
    "ax[0].imshow(X, cmap='viridis', interpolation='nearest')#, vmin=-1, vmax=1)\n",
    "ax[1].plot(cnt_lst, 'o-');"
   ]
  },
  {
   "cell_type": "code",
   "execution_count": 75,
   "metadata": {},
   "outputs": [],
   "source": [
    "def contact(prob):\n",
    "    rnd_nr = random.random()\n",
    "    if rnd_nr <= prob:\n",
    "        rtn = 1\n",
    "    else:\n",
    "        rtn = 0\n",
    "    return rtn"
   ]
  },
  {
   "cell_type": "code",
   "execution_count": null,
   "metadata": {},
   "outputs": [],
   "source": []
  },
  {
   "cell_type": "code",
   "execution_count": null,
   "metadata": {},
   "outputs": [],
   "source": []
  },
  {
   "cell_type": "code",
   "execution_count": null,
   "metadata": {},
   "outputs": [],
   "source": []
  }
 ],
 "metadata": {
  "kernelspec": {
   "display_name": "Python 3",
   "language": "python",
   "name": "python3"
  },
  "language_info": {
   "codemirror_mode": {
    "name": "ipython",
    "version": 3
   },
   "file_extension": ".py",
   "mimetype": "text/x-python",
   "name": "python",
   "nbconvert_exporter": "python",
   "pygments_lexer": "ipython3",
   "version": "3.6.8"
  }
 },
 "nbformat": 4,
 "nbformat_minor": 2
}
