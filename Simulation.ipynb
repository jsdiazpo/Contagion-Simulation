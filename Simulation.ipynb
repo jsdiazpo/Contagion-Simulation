{
 "cells": [
  {
   "cell_type": "code",
   "execution_count": 1,
   "metadata": {},
   "outputs": [],
   "source": [
    "import numpy as np\n",
    "import pandas as pd\n",
    "import matplotlib.pyplot as plt\n",
    "%matplotlib inline\n",
    "plt.rcParams['figure.facecolor'] = 'w'"
   ]
  },
  {
   "cell_type": "code",
   "execution_count": 2,
   "metadata": {},
   "outputs": [],
   "source": [
    "import random"
   ]
  },
  {
   "cell_type": "code",
   "execution_count": null,
   "metadata": {},
   "outputs": [],
   "source": []
  },
  {
   "cell_type": "code",
   "execution_count": 37,
   "metadata": {},
   "outputs": [],
   "source": [
    "num_side = 100\n",
    "X = np.zeros((num_side, num_side))\n",
    "# X = np.random.rand(50, 50)\n",
    "X[25, 25] = 1\n",
    "X[45, 75] = 1"
   ]
  },
  {
   "cell_type": "code",
   "execution_count": 38,
   "metadata": {},
   "outputs": [
    {
     "data": {
      "image/png": "[encoded data removed]",
      "text/plain": [
       "<Figure size 360x360 with 1 Axes>"
      ]
     },
     "metadata": {},
     "output_type": "display_data"
    }
   ],
   "source": [
    "fig, ax = plt.subplots()\n",
    "fig.set_size_inches(5, 5)\n",
    "# fig.autofmt_xdate(rotation=45)\n",
    "im = ax.imshow(X, cmap='viridis', interpolation='nearest')#, vmin=-1, vmax=1)\n",
    "# fig.colorbar(im)\n",
    "# ax.set_xticks(np.arange(len(data_fields+['DeltaE'])))\n",
    "# ax.set_yticks(np.arange(len(data_fields+['DeltaE'])))\n",
    "# ax.set_xticklabels(data_fields+['DeltaE'])\n",
    "# ax.set_yticklabels(data_fields+['DeltaE'])\n",
    "# ax.set_title('Correlation Matrix');"
   ]
  },
  {
   "cell_type": "code",
   "execution_count": 40,
   "metadata": {},
   "outputs": [
    {
     "name": "stdout",
     "output_type": "stream",
     "text": [
      "25 45\n",
      "25 75\n"
     ]
    }
   ],
   "source": [
    "for x,y in np.nonzero(X):\n",
    "    print(x,y)"
   ]
  },
  {
   "cell_type": "code",
   "execution_count": 47,
   "metadata": {},
   "outputs": [
    {
     "data": {
      "text/plain": [
       "0.052363598850944326"
      ]
     },
     "execution_count": 47,
     "metadata": {},
     "output_type": "execute_result"
    }
   ],
   "source": [
    "random.seed(123)\n",
    "random.random()"
   ]
  },
  {
   "cell_type": "code",
   "execution_count": 48,
   "metadata": {},
   "outputs": [],
   "source": [
    "def interaction(prob):\n",
    "    rnd_nr = random.random()\n",
    "    if rnd_nr <= prob:\n",
    "        rtn = 1\n",
    "    else:\n",
    "        rtn = 0\n",
    "    return rtn"
   ]
  },
  {
   "cell_type": "code",
   "execution_count": 68,
   "metadata": {},
   "outputs": [
    {
     "data": {
      "text/plain": [
       "0.1956"
      ]
     },
     "execution_count": 68,
     "metadata": {},
     "output_type": "execute_result"
    }
   ],
   "source": [
    "int_ = []\n",
    "for _ in range(10000):\n",
    "    int_.append(interaction(0.2))\n",
    "np.mean(int_)"
   ]
  },
  {
   "cell_type": "code",
   "execution_count": null,
   "metadata": {},
   "outputs": [],
   "source": []
  },
  {
   "cell_type": "code",
   "execution_count": null,
   "metadata": {},
   "outputs": [],
   "source": []
  }
 ],
 "metadata": {
  "kernelspec": {
   "display_name": "Python 3",
   "language": "python",
   "name": "python3"
  },
  "language_info": {
   "codemirror_mode": {
    "name": "ipython",
    "version": 3
   },
   "file_extension": ".py",
   "mimetype": "text/x-python",
   "name": "python",
   "nbconvert_exporter": "python",
   "pygments_lexer": "ipython3",
   "version": "3.6.8"
  }
 },
 "nbformat": 4,
 "nbformat_minor": 2
}
