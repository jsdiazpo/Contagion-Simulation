{
 "cells": [
  {
   "cell_type": "code",
   "execution_count": 1,
   "metadata": {},
   "outputs": [],
   "source": [
    "import numpy as np\n",
    "import pandas as pd\n",
    "import matplotlib.pyplot as plt\n",
    "%matplotlib inline\n",
    "plt.rcParams['figure.facecolor'] = 'w'\n",
    "import random\n",
    "from matplotlib.animation import FuncAnimation\n",
    "from IPython import display"
   ]
  },
  {
   "cell_type": "code",
   "execution_count": 2,
   "metadata": {},
   "outputs": [],
   "source": [
    "from time import time\n",
    "def runtime(t0):\n",
    "    dt = time() - t0\n",
    "    if dt < 60:\n",
    "        message = f'{dt:.0f} sec.'\n",
    "    elif dt < 3600:\n",
    "        message = f'{dt/60:.0f} min.'\n",
    "    else:\n",
    "        h = int(dt//3600)\n",
    "        m = int((dt%3600) / 60)\n",
    "        message = f'{h} h. {m} min.'\n",
    "    print(message)"
   ]
  },
  {
   "cell_type": "code",
   "execution_count": 58,
   "metadata": {},
   "outputs": [],
   "source": [
    "class Particle():\n",
    "    def __init__(self, initial_state=[10, 10, 10, 10], box_size=100):\n",
    "        self.x  = initial_state[0]\n",
    "        self.y  = initial_state[1]\n",
    "        self.vx = initial_state[2]\n",
    "        self.vy = initial_state[3]\n",
    "        self.box_size = box_size\n",
    "        \n",
    "    def get_position(self):\n",
    "        return self.x, self.y\n",
    "    \n",
    "    def get_velocity(self):\n",
    "        return self.vx, self.vy\n",
    "    \n",
    "    def move(self, dt):\n",
    "        if (self.x < 0 or self.x > self.box_size):\n",
    "            # particle at the x boundary\n",
    "            self.vx = - self.vx\n",
    "            \n",
    "        if (self.y < 0 or self.y > self.box_size):\n",
    "            # particle at the y boundary\n",
    "            self.vy = - self.vy\n",
    "            \n",
    "        self.x += self.vx * dt\n",
    "        self.y += self.vy * dt"
   ]
  },
  {
   "cell_type": "code",
   "execution_count": 78,
   "metadata": {},
   "outputs": [
    {
     "name": "stdout",
     "output_type": "stream",
     "text": [
      "xy: (5, 5) (5, 10)\n",
      "v : (1, 2) (0.5, 2)\n"
     ]
    }
   ],
   "source": [
    "x0, y0, vx0, vy0 = 5, 5, 1, 2\n",
    "initial_state1 = [x0, y0, vx0, vy0]\n",
    "initial_state2 = [x0, y0+5, vx0/2, vy0]\n",
    "p1 = Particle(initial_state1)\n",
    "p2 = Particle(initial_state2)\n",
    "print('xy:', p1.get_position(), p2.get_position())\n",
    "print('v :', p1.get_velocity(), p2.get_velocity())"
   ]
  },
  {
   "cell_type": "code",
   "execution_count": 84,
   "metadata": {},
   "outputs": [
    {
     "data": {
      "text/plain": [
       "0.047581723005536314"
      ]
     },
     "execution_count": 84,
     "metadata": {},
     "output_type": "execute_result"
    }
   ],
   "source": [
    "random.uniform(0, 1)"
   ]
  },
  {
   "cell_type": "code",
   "execution_count": 87,
   "metadata": {},
   "outputs": [
    {
     "data": {
      "text/plain": [
       "1"
      ]
     },
     "execution_count": 87,
     "metadata": {},
     "output_type": "execute_result"
    }
   ],
   "source": [
    "len(particles)"
   ]
  },
  {
   "cell_type": "code",
   "execution_count": null,
   "metadata": {},
   "outputs": [],
   "source": [
    "t0 = time()\n",
    "fig, ax = plt.subplots()\n",
    "lines = ax.plot([], 'o')\n",
    "line = lines[0]\n",
    "\n",
    "# other static stuff\n",
    "ax.set_aspect('equal')\n",
    "box_size = 100\n",
    "ax.set_xlim(0, box_size)\n",
    "ax.set_ylim(0, box_size)\n",
    "time_text = ax.text(8, 50, '', transform=ax.transAxes)\n",
    "\n",
    "num_particles = 3\n",
    "particles = []\n",
    "for _ in range(num_particles):\n",
    "    p = Particle(initial_state=[10, 10, 1, 1])#[100*random.uniform(0, 1), 100*random.uniform(0, 1), 1, 1])\n",
    "    particles.append(p)\n",
    "\n",
    "def init():\n",
    "    \"\"\"initialize animation\"\"\"\n",
    "    line.set_data([], [])\n",
    "    time_text.set_text('')\n",
    "        \n",
    "    return line, time_text\n",
    "\n",
    "def animate(frame):\n",
    "    x, y = [], []\n",
    "    for p in particles:\n",
    "        p.move(1)\n",
    "        xy = p.get_position()\n",
    "        x.append(xy[0])\n",
    "        y.append(xy[1])\n",
    "    line.set_data((x, y))\n",
    "#     ax.text(80, 80, 'a')\n",
    "\n",
    "num_loops = 5\n",
    "    \n",
    "animt = FuncAnimation(fig, animate, init_func=init, frames=100*num_loops, interval=30, repeat=True)\n",
    "video = animt.to_html5_video()\n",
    "html = display.HTML(video)\n",
    "display.display(html)\n",
    "plt.close()\n",
    "runtime(t0)"
   ]
  },
  {
   "cell_type": "code",
   "execution_count": null,
   "metadata": {},
   "outputs": [],
   "source": [
    "# def init_simulation():\n",
    "#     num_side = 100\n",
    "#     X = np.zeros((num_side, num_side))\n",
    "#     # X = np.random.rand(50, 50)\n",
    "#     X[70, 70] = 1\n",
    "#     X[30, 30] = 1\n",
    "#     cnt = len(np.nonzero(X)[0])\n",
    "#     cnt_lst = [cnt]\n",
    "#     return X, cnt_lst"
   ]
  },
  {
   "cell_type": "code",
   "execution_count": null,
   "metadata": {},
   "outputs": [],
   "source": []
  },
  {
   "cell_type": "code",
   "execution_count": null,
   "metadata": {},
   "outputs": [],
   "source": []
  },
  {
   "cell_type": "code",
   "execution_count": null,
   "metadata": {},
   "outputs": [],
   "source": []
  },
  {
   "cell_type": "code",
   "execution_count": null,
   "metadata": {},
   "outputs": [],
   "source": []
  },
  {
   "cell_type": "code",
   "execution_count": null,
   "metadata": {},
   "outputs": [],
   "source": []
  }
 ],
 "metadata": {
  "kernelspec": {
   "display_name": "Python 3",
   "language": "python",
   "name": "python3"
  },
  "language_info": {
   "codemirror_mode": {
    "name": "ipython",
    "version": 3
   },
   "file_extension": ".py",
   "mimetype": "text/x-python",
   "name": "python",
   "nbconvert_exporter": "python",
   "pygments_lexer": "ipython3",
   "version": "3.6.8"
  }
 },
 "nbformat": 4,
 "nbformat_minor": 2
}
